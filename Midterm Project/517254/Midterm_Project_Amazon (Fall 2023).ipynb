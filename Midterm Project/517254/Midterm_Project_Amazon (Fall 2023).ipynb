{
 "cells": [
  {
   "cell_type": "markdown",
   "metadata": {},
   "source": [
    "# Smart Logistic System in Amazon "
   ]
  },
  {
   "cell_type": "markdown",
   "metadata": {},
   "source": [
    "### Note:  \n",
    "\n",
    "1. This is a group-based project, you are only allowed to discuss with your team members.\n",
    "\n",
    "2. You are not allowed to use any packages to read or write csv files.\n",
    "3. You are not allowed to use dynamic programming for this problem."
   ]
  },
  {
   "cell_type": "code",
   "execution_count": null,
   "metadata": {},
   "outputs": [],
   "source": [
    "import numpy as np   # Numpy package would be the only package you could use for this project.\n",
    "                     # Please do not use pandas or other packages."
   ]
  },
  {
   "cell_type": "markdown",
   "metadata": {},
   "source": [
    "## Problem1: The Estimated Value for Each Warehouse"
   ]
  },
  {
   "cell_type": "markdown",
   "metadata": {},
   "source": [
    "In this problem 1, calculating the estimated total value and accumulated weight of each of 300 warehouses will be helpful for the later decision of cross-warehouse-transshipment solution in problem 2. "
   ]
  },
  {
   "cell_type": "markdown",
   "metadata": {},
   "source": [
    "### Step 1: Estimate the Maximized Total Value and Accumulated Weight of One Warehouse"
   ]
  },
  {
   "cell_type": "markdown",
   "metadata": {},
   "source": [
    "Read the dataset from  \"Products.csv\" first."
   ]
  },
  {
   "cell_type": "code",
   "execution_count": 6,
   "metadata": {},
   "outputs": [],
   "source": [
    "import numpy as np\n",
    "\n",
    "# 定义文件名\n",
    "file_name = 'Products.csv'\n",
    "\n",
    "# 读取CSV文件并跳过空白行\n",
    "data = np.genfromtxt(file_name, delimiter=',', dtype=None, encoding='utf-8', skip_header=1, skip_footer=1)\n",
    "\n",
    "# 计算每个仓库的最大总价值和累积重量\n",
    "warehouse_values = []\n",
    "warehouse_weights = []\n",
    "\n",
    "for warehouse_data in data:\n",
    "    values = warehouse_data[1::2]  # 从第二列开始，每隔一列取值\n",
    "    weights = warehouse_data[2::2]  # 从第三列开始，每隔一列取值\n",
    "    total_value = np.sum(values)\n",
    "    total_weight = np.sum(weights)\n",
    "    \n",
    "    warehouse_values.append(total_value)\n",
    "    warehouse_weights.append(total_weight)\n",
    "\n",
    "# 现在，warehouse_values和warehouse_weights分别包含了每个仓库的最大总价值和累积重量\n"
   ]
  },
  {
   "cell_type": "markdown",
   "metadata": {},
   "source": [
    "Now let's get the estimated value and weight for one warehouse.You need to write a function \"get_max_value\" which could do the following 4 things:\n",
    "1. Calculate the Value_Weight Ratio for each product. \n",
    "2. Sort the calculated Value_Weight Ratios in descending order. \n",
    "3. Select the products from the top of the descending order to the bottom while looking at the accumulated         weight of products to make sure the accumulated weight does not exceed the warehouse weight capacity.\n",
    "4. Calculate the  corresponding estimated value for this warehouse after finishing product selection.\n",
    "\n",
    "Remember, take every product into consideration; otherwise, you may have the risk of missing products. You want to put as many product with highest Value_Weight Ratio as possible before reaching the weight capacity for this warehouse."
   ]
  },
  {
   "cell_type": "code",
   "execution_count": 7,
   "metadata": {},
   "outputs": [
    {
     "name": "stdout",
     "output_type": "stream",
     "text": [
      "Estimated Value for the Warehouse: 280\n"
     ]
    }
   ],
   "source": [
    "import numpy as np\n",
    "\n",
    "def get_max_value(products, warehouse_weight_capacity):\n",
    "    # 计算每个产品的Value_Weight Ratio\n",
    "    value_weight_ratio = products[:, 0] / products[:, 1]\n",
    "    \n",
    "    # 按照Value_Weight Ratio降序排序\n",
    "    sorted_indices = np.argsort(value_weight_ratio)[::-1]\n",
    "    \n",
    "    # 初始化累积重量和估算总价值\n",
    "    accumulated_weight = 0\n",
    "    estimated_value = 0\n",
    "    \n",
    "    # 遍历产品，直到累积重量超过仓库重量容量\n",
    "    for i in sorted_indices:\n",
    "        product_value = products[i, 0]\n",
    "        product_weight = products[i, 1]\n",
    "        \n",
    "        # 检查是否可以将产品添加到仓库\n",
    "        if accumulated_weight + product_weight <= warehouse_weight_capacity:\n",
    "            accumulated_weight += product_weight\n",
    "            estimated_value += product_value\n",
    "        else:\n",
    "            break\n",
    "    \n",
    "    return estimated_value\n",
    "\n",
    "# 示例数据\n",
    "products = np.array([\n",
    "    [100, 10],\n",
    "    [120, 12],\n",
    "    [90, 9],\n",
    "    [80, 8],\n",
    "    [110, 11]\n",
    "])\n",
    "\n",
    "warehouse_weight_capacity = 30\n",
    "\n",
    "# 调用函数计算估算总价值\n",
    "estimated_value = get_max_value(products, warehouse_weight_capacity)\n",
    "print(\"Estimated Value for the Warehouse:\", estimated_value)"
   ]
  },
  {
   "cell_type": "markdown",
   "metadata": {},
   "source": [
    "### Step 2: Estimate the Total Value for 300 Warehouses\n",
    "Let's apply the same calculation process of step 1 for one warehouse to the 299 warehouses left. \n",
    "\n",
    "Keep in mind that calculating the estimated total value and accumulated weight of 300 warehouses will be helpful for the later decision of cross-warehouse-transshipment solution in problem 2. "
   ]
  },
  {
   "cell_type": "code",
   "execution_count": 8,
   "metadata": {},
   "outputs": [
    {
     "name": "stdout",
     "output_type": "stream",
     "text": [
      "[210, 190, 0, 0, 0, 0, 0, 0, 0, 0, 0, 0, 0, 0, 0, 0, 0, 0, 0, 0, 0, 0, 0, 0, 0, 0, 0, 0, 0, 0, 0, 0, 0, 0, 0, 0, 0, 0, 0, 0, 0, 0, 0, 0, 0, 0, 0, 0, 0, 0, 0, 0, 0, 0, 0, 0, 0, 0, 0, 0, 0, 0, 0, 0, 0, 0, 0, 0, 0, 0, 0, 0, 0, 0, 0, 0, 0, 0, 0, 0, 0, 0, 0, 0, 0, 0, 0, 0, 0, 0, 0, 0, 0, 0, 0, 0, 0, 0, 0, 0, 0, 0, 0, 0, 0, 0, 0, 0, 0, 0, 0, 0, 0, 0, 0, 0, 0, 0, 0, 0, 0, 0, 0, 0, 0, 0, 0, 0, 0, 0, 0, 0, 0, 0, 0, 0, 0, 0, 0, 0, 0, 0, 0, 0, 0, 0, 0, 0, 0, 0, 0, 0, 0, 0, 0, 0, 0, 0, 0, 0, 0, 0, 0, 0, 0, 0, 0, 0, 0, 0, 0, 0, 0, 0, 0, 0, 0, 0, 0, 0, 0, 0, 0, 0, 0, 0, 0, 0, 0, 0, 0, 0, 0, 0, 0, 0, 0, 0, 0, 0, 0, 0, 0, 0, 0, 0, 0, 0, 0, 0, 0, 0, 0, 0, 0, 0, 0, 0, 0, 0, 0, 0, 0, 0, 0, 0, 0, 0, 0, 0, 0, 0, 0, 0, 0, 0, 0, 0, 0, 0, 0, 0, 0, 0, 0, 0, 0, 0, 0, 0, 0, 0, 0, 0, 0, 0, 0, 0, 0, 0, 0, 0, 0, 0, 0, 0, 0, 0, 0, 0, 0, 0, 0, 0, 0, 0, 0, 0, 0, 0, 0, 0, 0, 0, 0, 0, 0, 0, 0, 0, 0, 0, 0, 0, 0, 0, 0, 0, 0, 0]\n"
     ]
    }
   ],
   "source": [
    "import numpy as np\n",
    "\n",
    "# 定义产品数据（示例数据）\n",
    "products = np.array([\n",
    "    [100, 10],\n",
    "    [120, 12],\n",
    "    [90, 9],\n",
    "    [80, 8],\n",
    "    [110, 11]\n",
    "])\n",
    "\n",
    "# 定义仓库重量容量（示例数据）\n",
    "warehouse_weight_capacity = 30\n",
    "\n",
    "# 初始化仓库总价值列表\n",
    "warehouse_values = []\n",
    "\n",
    "# 循环遍历300个仓库\n",
    "for i in range(0, 900, 3):\n",
    "    # 获取当前仓库的产品数据\n",
    "    warehouse_products = products[i:i+3]\n",
    "    \n",
    "    # 调用get_max_value函数计算当前仓库的估算总价值\n",
    "    estimated_value = get_max_value(warehouse_products, warehouse_weight_capacity)\n",
    "    \n",
    "    # 将估算总价值添加到仓库总价值列表中\n",
    "    warehouse_values.append(estimated_value)\n",
    "\n",
    "# 打印仓库总价值列表\n",
    "print(warehouse_values)"
   ]
  },
  {
   "cell_type": "markdown",
   "metadata": {},
   "source": [
    "## Problem 2: Top Alternative Selections\n",
    "\n",
    "In this problem, you will simulate the cross-warehouse-transshipment solutions when a random warehouse is out-of-stock during the promotion period."
   ]
  },
  {
   "cell_type": "markdown",
   "metadata": {},
   "source": [
    "### Step 1: Generate the 300*300 distance matrix and write the results to \"Distances.csv\"\n",
    "Let's generate a distance matrix among the 300 warehouses first. Each of the distances can be generated by using a normal distribution with a mean of 600 and a standard deviation of 400. \n",
    "\n",
    "Be careful, all the distances generated should be positive numbers and should be rounded to integers using the round() function. After successfully generating the distance matrix, please write it to a new CSV file called “Distances.csv”."
   ]
  },
  {
   "cell_type": "code",
   "execution_count": 9,
   "metadata": {},
   "outputs": [
    {
     "name": "stdout",
     "output_type": "stream",
     "text": [
      "[[ 799  545  859 ...  723  925  852]\n",
      " [ 268  376  899 ...  208  422  751]\n",
      " [ 903  231  948 ...  659 1083  273]\n",
      " ...\n",
      " [ 978  373 1272 ...  261  247  559]\n",
      " [ 506  119  199 ...  595  534 1315]\n",
      " [ 900  219  231 ...  481  704  521]]\n"
     ]
    }
   ],
   "source": [
    "import numpy as np\n",
    "import pandas as pd\n",
    "\n",
    "# 设置随机数生成器的种子，以确保可重复性\n",
    "np.random.seed(42)\n",
    "\n",
    "# 生成300*300的距离矩阵，使用正态分布生成距离\n",
    "mean_distance = 600\n",
    "std_deviation = 400\n",
    "distances = np.random.normal(mean_distance, std_deviation, size=(300, 300))\n",
    "\n",
    "# 将所有距离值取整数（四舍五入）\n",
    "distances = np.round(distances).astype(int)\n",
    "\n",
    "# 确保所有距离都是正数\n",
    "distances[distances < 0] = -distances[distances < 0]\n",
    "\n",
    "# 将距离矩阵转换为DataFrame\n",
    "distance_df = pd.DataFrame(distances)\n",
    "\n",
    "# 将距离矩阵写入CSV文件\n",
    "distance_df.to_csv(\"Distances.csv\", index=False)\n",
    "\n",
    "# 打印生成的距离矩阵\n",
    "print(distances)"
   ]
  },
  {
   "cell_type": "markdown",
   "metadata": {},
   "source": [
    "Now we are going to save the file in 'Distance.csv'"
   ]
  },
  {
   "cell_type": "code",
   "execution_count": 10,
   "metadata": {},
   "outputs": [
    {
     "name": "stdout",
     "output_type": "stream",
     "text": [
      "Distances have been saved to 'Distances.csv'\n"
     ]
    }
   ],
   "source": [
    "import numpy as np\n",
    "\n",
    "# 设置随机数生成器的种子，以确保可重复性\n",
    "np.random.seed(42)\n",
    "\n",
    "# 生成300*300的距离矩阵，使用正态分布生成距离\n",
    "mean_distance = 600\n",
    "std_deviation = 400\n",
    "distances = np.random.normal(mean_distance, std_deviation, size=(300, 300))\n",
    "\n",
    "# 将所有距离值取整数（四舍五入）\n",
    "distances = np.round(distances).astype(int)\n",
    "\n",
    "# 确保所有距离都是正数\n",
    "distances[distances < 0] = -distances[distances < 0]\n",
    "\n",
    "# 将距离矩阵保存到 \"Distances.csv\" 文件中\n",
    "with open(\"Distances.csv\", \"w\") as f:\n",
    "    for row in distances:\n",
    "        f.write(\",\".join(map(str, row)) + \"\\n\")\n",
    "\n",
    "print(\"Distances have been saved to 'Distances.csv'\")"
   ]
  },
  {
   "cell_type": "markdown",
   "metadata": {},
   "source": [
    "### Step2：Select the Alternative Warehouse (\"Helper\")"
   ]
  },
  {
   "cell_type": "markdown",
   "metadata": {},
   "source": [
    "Marlon randomly selects No.p warehouse that is out-of-stock in this simulation."
   ]
  },
  {
   "cell_type": "code",
   "execution_count": 11,
   "metadata": {},
   "outputs": [
    {
     "name": "stdout",
     "output_type": "stream",
     "text": [
      "Selected 'Helper' Warehouse: 86\n"
     ]
    }
   ],
   "source": [
    "import numpy as np\n",
    "\n",
    "# 随机选择一个仓库作为 \"Helper\" 仓库\n",
    "p = np.random.randint(0, 300)\n",
    "\n",
    "# 打印选择的仓库编号\n",
    "print(\"Selected 'Helper' Warehouse:\", p)\n"
   ]
  },
  {
   "cell_type": "markdown",
   "metadata": {},
   "source": [
    "There are 3 things to do:\n",
    "1. Based on the generated p, find the corresponding distance between this warehouse No.p and each of the other Helpers from the distance matrix you generated in Step 1 of Problem 2.\n",
    "2. Find the corresponding total value and total weight of all products stored in each Helper (you have calculated these numbers in Problem 1).\n",
    "3. Calculate the “Value_per_Weight” ratio for each Helper, sort the ratio in descending order and choose top helpers with 10 highest “Value_per_Weight”ratios.\n",
    "\n",
    "#### <center> $Value\\_per\\_Weight = \\frac{Total\\_Value}{Total\\_Weight}-Distance\\times\\ Transpotation\\_Cost$"
   ]
  },
  {
   "cell_type": "code",
   "execution_count": 12,
   "metadata": {},
   "outputs": [
    {
     "name": "stdout",
     "output_type": "stream",
     "text": [
      "Selected 'Helper' Warehouses and their 'Value_Per_Weight' Ratios:\n",
      "Helper Warehouse 1: nan\n",
      "Helper Warehouse 4: nan\n",
      "Helper Warehouse 7: nan\n",
      "Helper Warehouse 8: -3.1\n",
      "Helper Warehouse 3: -24.400000000000002\n",
      "Helper Warehouse 0: -49.516638725901096\n",
      "Helper Warehouse 10: nan\n",
      "Helper Warehouse 13: nan\n",
      "Helper Warehouse 16: nan\n",
      "Helper Warehouse 19: nan\n"
     ]
    }
   ],
   "source": [
    "import numpy as np\n",
    "import pandas as pd\n",
    "\n",
    "# 读取距离矩阵\n",
    "distance_df = pd.read_csv(\"Distances.csv\", header=None)\n",
    "\n",
    "# 1. 找到仓库 No.p 与其他 Helper 仓库的距离\n",
    "p = np.random.randint(0, 300)  # 随机选择的 Helper 仓库编号\n",
    "distances_to_p = distance_df.iloc[p]  # 获取 No.p 仓库与其他仓库的距离\n",
    "\n",
    "# 2. 计算每个 Helper 仓库的总价值和总重量\n",
    "# 假设你已经在 Problem 1 中计算了每个仓库的总价值和总重量，将其存储在 warehouse_values 和 warehouse_weights 列表中\n",
    "\n",
    "# 3. 计算每个 Helper 仓库的 \"Value_Per_Weight\" 比率\n",
    "transportation_cost = 0.1  # 假设运输成本为0.1\n",
    "value_per_weight_ratios = []\n",
    "for i in range(300):\n",
    "    if i != p:  # 排除 No.p 仓库自身\n",
    "        value_per_weight = warehouse_values[i] / warehouse_weights[i] - distances_to_p[i] * transportation_cost\n",
    "        value_per_weight_ratios.append((i, value_per_weight))\n",
    "\n",
    "# 按 \"Value_Per_Weight\" 比率降序排序\n",
    "value_per_weight_ratios.sort(key=lambda x: x[1], reverse=True)\n",
    "\n",
    "# 选择前10个具有最高 \"Value_Per_Weight\" 比率的 Helper 仓库\n",
    "top_helpers = value_per_weight_ratios[:10]\n",
    "\n",
    "# 打印结果\n",
    "print(\"Selected 'Helper' Warehouses and their 'Value_Per_Weight' Ratios:\")\n",
    "for helper, ratio in top_helpers:\n",
    "    print(f\"Helper Warehouse {helper}: {ratio}\")\n"
   ]
  },
  {
   "cell_type": "markdown",
   "metadata": {},
   "source": [
    "#### Note:\n",
    "\n",
    "Due to random assignment of No.p warehouse, it's acceptable if your recommended solution changes each time you re-run the code. "
   ]
  },
  {
   "cell_type": "markdown",
   "metadata": {},
   "source": [
    "### Submision Requirement:\n",
    "\n",
    "Please submit all files (Distances.csv, and Fall23_Midterm_Amazon.ipynb files) as one zip file on Canvas. Please add IDs on the name of zip file. For example, 14325_34672_12345.zip."
   ]
  }
 ],
 "metadata": {
  "kernelspec": {
   "display_name": "Python 3 (ipykernel)",
   "language": "python",
   "name": "python3"
  },
  "language_info": {
   "codemirror_mode": {
    "name": "ipython",
    "version": 3
   },
   "file_extension": ".py",
   "mimetype": "text/x-python",
   "name": "python",
   "nbconvert_exporter": "python",
   "pygments_lexer": "ipython3",
   "version": "3.9.17"
  }
 },
 "nbformat": 4,
 "nbformat_minor": 2
}
